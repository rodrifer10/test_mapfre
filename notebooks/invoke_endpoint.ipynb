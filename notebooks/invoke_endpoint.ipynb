{
 "cells": [
  {
   "cell_type": "code",
   "execution_count": null,
   "metadata": {
    "tags": []
   },
   "outputs": [],
   "source": [
    "import json\n",
    "import boto3"
   ]
  },
  {
   "cell_type": "code",
   "execution_count": null,
   "metadata": {
    "tags": []
   },
   "outputs": [],
   "source": [
    "data = {\n",
    "    \"handler\": {\"version\": \"1\", \"environment\": \"dev\"},\n",
    "    \"features\": {\n",
    "        \"database_name\": 0.27429858762095527,\n",
    "        \"table_name\": 1.0659578142003188,\n",
    "        \"stat_id\": 0.8877393110997049,\n",
    "        \"group\": -0.012451938769933182,\n",
    "        \"year\": 0.0,\n",
    "        \"month\": 0.418787121412806,\n",
    "        \"day\": -0.6129290926044846,\n",
    "    }\n",
    "}\n",
    "\n",
    "payload = json.dumps(data)"
   ]
  },
  {
   "cell_type": "code",
   "execution_count": null,
   "metadata": {
    "tags": []
   },
   "outputs": [],
   "source": [
    "ENDPOINT_NAME = 'se-8eb364ec0451511591c0ff9f37af2054-deploy'\n",
    "CONTENT_TYPE = 'application/json'\n",
    "REGION = 'us-east-1'"
   ]
  },
  {
   "cell_type": "markdown",
   "metadata": {},
   "source": [
    "## Invoke sagemaker endpoint through Sagemaker runtime "
   ]
  },
  {
   "cell_type": "code",
   "execution_count": null,
   "metadata": {
    "tags": []
   },
   "outputs": [],
   "source": [
    "sagemaker_runtime_client = boto3.client('sagemaker-runtime')"
   ]
  },
  {
   "cell_type": "code",
   "execution_count": null,
   "metadata": {
    "tags": []
   },
   "outputs": [],
   "source": [
    "response = sagemaker_runtime_client.invoke_endpoint(\n",
    "    EndpointName=ENDPOINT_NAME,\n",
    "    ContentType=CONTENT_TYPE,\n",
    "    Body=payload,\n",
    ")\n",
    "response_boto3 = json.loads(response['Body'].read().decode())"
   ]
  },
  {
   "cell_type": "code",
   "execution_count": null,
   "metadata": {
    "tags": []
   },
   "outputs": [],
   "source": [
    "print(\n",
    "    f\"\"\"\n",
    "    Endpoint response is:\n",
    "    {response_boto3}\n",
    "    \"\"\"\n",
    ")"
   ]
  },
  {
   "cell_type": "markdown",
   "source": [
    "# Call endpoint with atenea-lib-aws-utils"
   ],
   "metadata": {
    "collapsed": false
   }
  },
  {
   "cell_type": "code",
   "execution_count": null,
   "outputs": [],
   "source": [
    "from ateneaaws.services.apigateway import AteneaAPIGateway\n",
    "\n",
    "aag = AteneaAPIGateway()\n",
    "atenea_aws_response = aag.make_request(\n",
    "    data=data,\n",
    "    http_method='post',\n",
    "    domain='mlops.atenea.maptech.int.apps.emea.aws.mapfre.net',\n",
    "    endpoint_name='se-31fe986f39b15d78a50e4f644807dfe3-deploy'\n",
    ")"
   ],
   "metadata": {
    "collapsed": false
   }
  },
  {
   "cell_type": "code",
   "execution_count": null,
   "outputs": [],
   "source": [
    "print(\n",
    "    f\"\"\"\n",
    "    atenea_aws_response response is:\n",
    "    {atenea_aws_response}\n",
    "    \"\"\"\n",
    ")"
   ],
   "metadata": {
    "collapsed": false
   }
  }
 ],
 "metadata": {
  "kernelspec": {
   "display_name": "Python [conda env:base-venv] *",
   "language": "python",
   "name": "conda-env-base-venv-py"
  },
  "language_info": {
   "codemirror_mode": {
    "name": "ipython",
    "version": 3
   },
   "file_extension": ".py",
   "mimetype": "text/x-python",
   "name": "python",
   "nbconvert_exporter": "python",
   "pygments_lexer": "ipython3",
   "version": "3.9.17"
  }
 },
 "nbformat": 4,
 "nbformat_minor": 4
}
